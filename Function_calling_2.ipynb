{
 "cells": [
  {
   "attachments": {},
   "cell_type": "markdown",
   "id": "10a1bb14-351c-41e7-8185-b9f184334225",
   "metadata": {},
   "source": [
    "# Function calling: *part two*\n",
    "Source: YouTube [video](https://www.youtube.com/watch?v=3F55ZQWcwW4) by ***Prompt Engineering***.\n",
    "\n",
    "Tool/Function Calling\n",
    "\n",
    "*Function calling is the ability to reliably connect LLMs to external tools to enable effective tool usage and interaction with external APIs.*\n",
    "\n",
    "This is often a fine-tuned feature, not available to all models, but super useful where it is!\n",
    "\n",
    "## Common use cases\n",
    "\n",
    "Function calling allows you to more reliably get structured data back from the model. For example, you can:\n",
    "\n",
    "* Create assistants that answer questions by calling external APIs\n",
    "     * e.g. define functions like `send_email(to: string, body: string)`, or `get_current_weather(location: string, unit: 'celsius' | 'fahrenheit')`\n",
    "* Convert natural language into API calls\n",
    "     * e.g. convert \"Who are my top customers?\" to `get_customers(min_revenue: int, created_before: string, limit: int)` and call your internal API\n",
    "* Extract structured data from text\n",
    "     * e.g. define a function called `extract_data(name: string, birthday: string)`, or `sql_query(query: string)`\n",
    " \n",
    "## The basic sequence of steps for function calling is as follows:\n",
    "\n",
    "1. Call the model with the user query and a set of functions defined in the functions parameter.\n",
    "1. The model can choose to call one or more functions; if so, the content will be a stringified JSON object adhering to your custom schema\n",
    "1. Parse the string into JSON in your code, and call your function with the provided arguments if they exist.\n",
    "1. Call the model again by appending the function response as a new message, and let the model summarize the results back to the user.\n",
    "\n",
    "While the name implies that the model is performing some action, this is actually not the case! The model is coming up with the arguments to a tool, and actually running the tool (or not) is up to the user"
   ]
  },
  {
   "cell_type": "code",
   "execution_count": 1,
   "id": "937fc5f4-8226-44ae-b048-3b1ab82c1dc2",
   "metadata": {},
   "outputs": [
    {
     "data": {
      "text/plain": [
       "openai.OpenAI"
      ]
     },
     "execution_count": 1,
     "metadata": {},
     "output_type": "execute_result"
    }
   ],
   "source": [
    "from openai import OpenAI\n",
    "from dotenv import load_dotenv\n",
    "import json\n",
    "load_dotenv()\n",
    "client = OpenAI()\n",
    "type(client)"
   ]
  },
  {
   "cell_type": "code",
   "execution_count": 2,
   "id": "3a5934df-579f-4460-9392-460615829320",
   "metadata": {},
   "outputs": [
    {
     "data": {
      "text/plain": [
       "'gpt-4o'"
      ]
     },
     "execution_count": 2,
     "metadata": {},
     "output_type": "execute_result"
    }
   ],
   "source": [
    "MODEL = \"gpt-4o\"\n",
    "MODEL"
   ]
  },
  {
   "cell_type": "code",
   "execution_count": 3,
   "id": "c01e14a0-3c73-455d-900f-4ad1867801a3",
   "metadata": {},
   "outputs": [
    {
     "name": "stdout",
     "output_type": "stream",
     "text": [
      "Assistant:\n",
      "Sure! \\( 2 + 2 = 4 \\). If you have any other questions or need further help, feel free to ask!\n"
     ]
    }
   ],
   "source": [
    "completion = client.chat.completions.create(\n",
    "    model=MODEL,\n",
    "    messages=[\n",
    "        {\n",
    "            \"role\": \"system\",\n",
    "            \"content\": \"You are a helpful assistant. Help me with my math homework!\" # This is the system message. It specifies the systems role / behaviour.\n",
    "        },\n",
    "        {\n",
    "            \"role\": \"user\",\n",
    "            \"content\": \"Hello! Could you solve 2+2?\" # This is the user message. The model will return an according reply.\n",
    "        }\n",
    "    ]\n",
    ")\n",
    "print(f\"Assistant:\\n{completion.choices[0].message.content}\")"
   ]
  },
  {
   "cell_type": "code",
   "execution_count": 4,
   "id": "040d6203-f468-405e-b4bb-80f8d1ccbaaa",
   "metadata": {},
   "outputs": [
    {
     "name": "stdout",
     "output_type": "stream",
     "text": [
      "Assistant:\n",
      "I'm called ChatGPT, and I was created by OpenAI. My training data includes information up to September 2021. How can I assist you today?\n"
     ]
    }
   ],
   "source": [
    "completion = client.chat.completions.create(\n",
    "    model=MODEL,\n",
    "    messages=[\n",
    "        {\n",
    "            \"role\": \"user\",\n",
    "            \"content\": \"What is your name and who created you? What is your training cutoff date?\"\n",
    "        }\n",
    "    ]\n",
    ")\n",
    "print(f\"Assistant:\\n{completion.choices[0].message.content}\")"
   ]
  },
  {
   "cell_type": "markdown",
   "id": "09e8edd7-042b-4400-8822-ed2db90ceead",
   "metadata": {},
   "source": [
    "## JSON mode for function calling"
   ]
  },
  {
   "cell_type": "code",
   "execution_count": 5,
   "id": "c375ca20-1f15-43c3-b0c4-a6e910d4b24c",
   "metadata": {},
   "outputs": [
    {
     "name": "stdout",
     "output_type": "stream",
     "text": [
      "{\n",
      "  \"weekly_workout_routine\": {\n",
      "    \"Monday\": {\n",
      "      \"workout\": \"Full Body Strength Training\",\n",
      "      \"exercises\": [\n",
      "        {\n",
      "          \"name\": \"Squats\",\n",
      "          \"sets\": 3,\n",
      "          \"reps\": 12\n",
      "        },\n",
      "        {\n",
      "          \"name\": \"Bench Press\",\n",
      "          \"sets\": 3,\n",
      "          \"reps\": 10\n",
      "        },\n",
      "        {\n",
      "          \"name\": \"Bent Over Rows\",\n",
      "          \"sets\": 3,\n",
      "          \"reps\": 12\n",
      "        },\n",
      "        {\n",
      "          \"name\": \"Overhead Press\",\n",
      "          \"sets\": 3,\n",
      "          \"reps\": 10\n",
      "        },\n",
      "        {\n",
      "          \"name\": \"Deadlifts\",\n",
      "          \"sets\": 3,\n",
      "          \"reps\": 10\n",
      "        }\n",
      "      ]\n",
      "    },\n",
      "    \"Tuesday\": {\n",
      "      \"workout\": \"Cardio\",\n",
      "      \"exercises\": [\n",
      "        {\n",
      "          \"name\": \"Running\",\n",
      "          \"duration\": \"30 minutes\"\n",
      "        },\n",
      "        {\n",
      "          \"name\": \"Cycling\",\n",
      "          \"duration\": \"30 minutes\"\n",
      "        }\n",
      "      ]\n",
      "    },\n",
      "    \"Wednesday\": {\n",
      "      \"workout\": \"Lower Body Strength Training\",\n",
      "      \"exercises\": [\n",
      "        {\n",
      "          \"name\": \"Leg Press\",\n",
      "          \"sets\": 4,\n",
      "          \"reps\": 10\n",
      "        },\n",
      "        {\n",
      "          \"name\": \"Lunges\",\n",
      "          \"sets\": 4,\n",
      "          \"reps\": 12\n",
      "        },\n",
      "        {\n",
      "          \"name\": \"Calf Raises\",\n",
      "          \"sets\": 4,\n",
      "          \"reps\": 15\n",
      "        },\n",
      "        {\n",
      "          \"name\": \"Leg Curls\",\n",
      "          \"sets\": 4,\n",
      "          \"reps\": 12\n",
      "        }\n",
      "      ]\n",
      "    },\n",
      "    \"Thursday\": {\n",
      "      \"workout\": \"Yoga and Flexibility\",\n",
      "      \"exercises\": [\n",
      "        {\n",
      "          \"name\": \"Sun Salutations\",\n",
      "          \"sets\": 5\n",
      "        },\n",
      "        {\n",
      "          \"name\": \"Downward Dog\",\n",
      "          \"duration\": \"2 minutes\"\n",
      "        },\n",
      "        {\n",
      "          \"name\": \"Warrior Pose\",\n",
      "          \"duration\": \"2 minutes\"\n",
      "        },\n",
      "        {\n",
      "          \"name\": \"Seated Forward Bend\",\n",
      "          \"duration\": \"3 minutes\"\n",
      "        },\n",
      "        {\n",
      "          \"name\": \"Child's Pose\",\n",
      "          \"duration\": \"3 minutes\"\n",
      "        }\n",
      "      ]\n",
      "    },\n",
      "    \"Friday\": {\n",
      "      \"workout\": \"Upper Body Strength Training\",\n",
      "      \"exercises\": [\n",
      "        {\n",
      "          \"name\": \"Pull-Ups\",\n",
      "          \"sets\": 4,\n",
      "          \"reps\": 10\n",
      "        },\n",
      "        {\n",
      "          \"name\": \"Dumbbell Bench Press\",\n",
      "          \"sets\": 4,\n",
      "          \"reps\": 12\n",
      "        },\n",
      "        {\n",
      "          \"name\": \"Shoulder Press\",\n",
      "          \"sets\": 4,\n",
      "          \"reps\": 10\n",
      "        },\n",
      "        {\n",
      "          \"name\": \"Tricep Dips\",\n",
      "          \"sets\": 4,\n",
      "          \"reps\": 12\n",
      "        },\n",
      "        {\n",
      "          \"name\": \"Bicep Curls\",\n",
      "          \"sets\": 4,\n",
      "          \"reps\": 12\n",
      "        }\n",
      "      ]\n",
      "    },\n",
      "    \"Saturday\": {\n",
      "      \"workout\": \"HIIT (High-Intensity Interval Training)\",\n",
      "      \"exercises\": [\n",
      "        {\n",
      "          \"name\": \"Jumping Jacks\",\n",
      "          \"sets\": 1,\n",
      "          \"duration\": \"1 minute\"\n",
      "        },\n",
      "        {\n",
      "          \"name\": \"Burpees\",\n",
      "          \"sets\": 1,\n",
      "          \"duration\": \"1 minute\"\n",
      "        },\n",
      "        {\n",
      "          \"name\": \"Mountain Climbers\",\n",
      "          \"sets\": 1,\n",
      "          \"duration\": \"1 minute\"\n",
      "        },\n",
      "        {\n",
      "          \"name\": \"High Knees\",\n",
      "          \"sets\": 1,\n",
      "          \"duration\": \"1 minute\"\n",
      "        },\n",
      "        {\n",
      "          \"name\": \"Plank\",\n",
      "          \"sets\": 1,\n",
      "          \"duration\": \"1 minute\"\n",
      "        },\n",
      "        {\n",
      "          \"repeat\": \"Repeat all exercises for 3 rounds\"\n",
      "        }\n",
      "      ]\n",
      "    },\n",
      "    \"Sunday\": {\n",
      "      \"workout\": \"Rest and Recovery\",\n",
      "      \"exercises\": [\n",
      "        {\n",
      "          \"name\": \"Light Stretching\",\n",
      "          \"duration\": \"20 minutes\"\n",
      "        }\n",
      "      ]\n",
      "    }\n",
      "  }\n",
      "}\n"
     ]
    }
   ],
   "source": [
    "completion = client.chat.completions.create(\n",
    "    model=MODEL,\n",
    "    response_format={\n",
    "        \"type\": \"json_object\"\n",
    "    },\n",
    "    messages=[\n",
    "        {\n",
    "            \"role\": \"system\",\n",
    "            \"content\": \"You are a trainer who always responds in JSON.\"\n",
    "        },\n",
    "        {\n",
    "            \"role\": \"user\",\n",
    "            \"content\": \"Create a weekly workout routine for me!\"\n",
    "        }\n",
    "    ]\n",
    ")\n",
    "print(completion.choices[0].message.content)"
   ]
  },
  {
   "cell_type": "markdown",
   "id": "5a86624c-2365-4bc5-b17b-6805fc178d54",
   "metadata": {},
   "source": [
    "## Image understanding\n",
    "For context, let's preview the image that we want to understand."
   ]
  },
  {
   "cell_type": "code",
   "execution_count": 6,
   "id": "9fb78387-2496-47e8-85da-4290c93f5bcb",
   "metadata": {},
   "outputs": [
    {
     "data": {
      "image/png": "[encoded data removed]",
      "text/plain": [
       "<IPython.core.display.Image object>"
      ]
     },
     "metadata": {},
     "output_type": "display_data"
    }
   ],
   "source": [
    "from IPython.display import Image, display, Audio, Markdown\n",
    "import base64\n",
    "IMAGE_PATH = \"triangle.png\"\n",
    "display(Image(IMAGE_PATH))"
   ]
  },
  {
   "cell_type": "markdown",
   "id": "104b6e6d-3421-4996-b589-cd46ff114d1d",
   "metadata": {},
   "source": [
    "### Base64 image processing\n",
    "Open the image file and encode it as a `base64` string."
   ]
  },
  {
   "cell_type": "code",
   "execution_count": 7,
   "id": "f568f6d8-717a-487a-8aef-6a54d1164d8d",
   "metadata": {},
   "outputs": [
    {
     "name": "stdout",
     "output_type": "stream",
     "text": [
      "To find the area of the triangle, we can use the formula for the area of a triangle:\n",
      "\n",
      "\\[ \\text{Area} = \\frac{1}{2} \\times \\text{base} \\times \\text{height} \\]\n",
      "\n",
      "In this case, the base of the triangle is given as 9 units. To find the height, we can use the Pythagorean theorem on one of the right triangles formed by the height.\n",
      "\n",
      "Let's denote the height as \\( h \\). The triangle is split into two right triangles with bases of 4.5 units each (since the base is 9 units and the height splits it into two equal parts).\n",
      "\n",
      "For the left triangle:\n",
      "\\[ 6^2 = 4.5^2 + h^2 \\]\n",
      "\\[ 36 = 20.25 + h^2 \\]\n",
      "\\[ h^2 = 36 - 20.25 \\]\n",
      "\\[ h^2 = 15.75 \\]\n",
      "\\[ h = \\sqrt{15.75} \\]\n",
      "\\[ h \\approx 3.97 \\]\n",
      "\n",
      "Now, we can calculate the area:\n",
      "\\[ \\text{Area} = \\frac{1}{2} \\times 9 \\times 3.97 \\]\n",
      "\\[ \\text{Area} \\approx \\frac{1}{2} \\times 9 \\times 3.97 \\]\n",
      "\\[ \\text{Area} \\approx 17.865 \\]\n",
      "\n",
      "So, the area of the triangle is approximately \\( 17.865 \\) square units.\n"
     ]
    }
   ],
   "source": [
    "def encode_image(image_path):\n",
    "    with open(image_path, \"rb\") as image_file:\n",
    "        return base64.b64encode(image_file.read()).decode(\"utf-8\")\n",
    "#\n",
    "base64_image = encode_image(IMAGE_PATH)\n",
    "response = client.chat.completions.create(\n",
    "    model=MODEL,\n",
    "    messages=[\n",
    "        {\n",
    "            \"role\": \"system\",\n",
    "            \"content\": \"You are a helpful assistant that responds in Markdown. Help me with my math homework!\"\n",
    "        },\n",
    "        {\n",
    "            \"role\": \"user\",\n",
    "            \"content\": [\n",
    "                {\n",
    "                    \"type\": \"text\", \"text\": \"What's the area of the triangle?\"\n",
    "                },\n",
    "                {\n",
    "                    \"type\": \"image_url\", \"image_url\": {\n",
    "                        \"url\": f\"data:image/png;base64,{base64_image}\"\n",
    "                    }\n",
    "                }\n",
    "            ]\n",
    "        }\n",
    "    ],\n",
    "    temperature=0.0,\n",
    ")\n",
    "print(response.choices[0].message.content)"
   ]
  },
  {
   "cell_type": "markdown",
   "id": "cd63d5bb-2a98-4210-a8cd-be84eb48b909",
   "metadata": {},
   "source": [
    "### URL image processing\n",
    "Have a look at the [online picture](https://upload.wikimedia.org/wikipedia/commons/e/e2/The_Algebra_of_Mohammed_Ben_Musa_-_page_82b.png)!"
   ]
  },
  {
   "cell_type": "code",
   "execution_count": 8,
   "id": "25eed302-37f8-4c6d-804f-3d237e848701",
   "metadata": {},
   "outputs": [
    {
     "name": "stdout",
     "output_type": "stream",
     "text": [
      "To find the area of the triangle, we can use Heron's formula. First, we need to find the semi-perimeter of the triangle.\n",
      "\n",
      "The sides of the triangle are 6, 5, and 9.\n",
      "\n",
      "The semi-perimeter \\( s \\) is calculated as:\n",
      "\\[ s = \\frac{a + b + c}{2} \\]\n",
      "where \\( a = 6 \\), \\( b = 5 \\), and \\( c = 9 \\).\n",
      "\n",
      "\\[ s = \\frac{6 + 5 + 9}{2} = \\frac{20}{2} = 10 \\]\n",
      "\n",
      "Now, we can use Heron's formula to find the area \\( A \\):\n",
      "\\[ A = \\sqrt{s(s-a)(s-b)(s-c)} \\]\n",
      "\n",
      "Substitute the values:\n",
      "\\[ A = \\sqrt{10(10-6)(10-5)(10-9)} \\]\n",
      "\\[ A = \\sqrt{10 \\cdot 4 \\cdot 5 \\cdot 1} \\]\n",
      "\\[ A = \\sqrt{200} \\]\n",
      "\\[ A = 10\\sqrt{2} \\]\n",
      "\n",
      "So, the area of the triangle is \\( 10\\sqrt{2} \\) square units.\n"
     ]
    }
   ],
   "source": [
    "response = client.chat.completions.create(\n",
    "    model=MODEL,\n",
    "    messages=[\n",
    "        {\n",
    "            \"role\": \"system\",\n",
    "            \"content\": \"You are a helpful assistant that responds in Markdown. Help me with my math homework!\"\n",
    "        },\n",
    "        {\n",
    "            \"role\": \"user\",\n",
    "            \"content\": [\n",
    "                {\n",
    "                    \"type\": \"text\",\n",
    "                    \"text\": \"What's the area of the triangle?\"\n",
    "                },\n",
    "                {\n",
    "                    \"type\": \"image_url\",\n",
    "                    \"image_url\": {\n",
    "                        \"url\": \"https://upload.wikimedia.org/wikipedia/commons/e/e2/The_Algebra_of_Mohammed_Ben_Musa_-_page_82b.png\"\n",
    "                    }\n",
    "                }\n",
    "            ]\n",
    "        }\n",
    "    ],\n",
    "    temperature=0.0,\n",
    ")\n",
    "print(response.choices[0].message.content)"
   ]
  },
  {
   "cell_type": "markdown",
   "id": "0c024231-3a60-4718-8c16-acd66fb37e93",
   "metadata": {},
   "source": [
    "## Further image processing\n",
    "\n",
    "### Bar chart\n",
    "**Display** the bar chart via its `url`:"
   ]
  },
  {
   "cell_type": "code",
   "execution_count": 9,
   "id": "eed7021b-e18e-4f8c-a8f1-5b96309f68ae",
   "metadata": {},
   "outputs": [
    {
     "data": {
      "text/html": [
       "<img src=\"https://images.ctfassets.net/kftzwdyauwt9/3Y5UXKbx1ZIQYF4dg585eH/1a6da79d0ab3b8d3a2fd23aae1f21075/gpt-40-01_dark.png\" width=\"450\"/>"
      ],
      "text/plain": [
       "<IPython.core.display.Image object>"
      ]
     },
     "execution_count": 9,
     "metadata": {},
     "output_type": "execute_result"
    }
   ],
   "source": [
    "from IPython.display import Image\n",
    "from IPython.core.display import HTML\n",
    "imgurl = \"https://images.ctfassets.net/kftzwdyauwt9/3Y5UXKbx1ZIQYF4dg585eH/1a6da79d0ab3b8d3a2fd23aae1f21075/gpt-40-01_dark.png\"\n",
    "Image(url=imgurl, width=450)"
   ]
  },
  {
   "cell_type": "markdown",
   "id": "4df90e3f-372e-4404-8536-c893f3d588fb",
   "metadata": {},
   "source": [
    "**Analyse** the bar chart via its `url`:"
   ]
  },
  {
   "cell_type": "code",
   "execution_count": 10,
   "id": "4f1cace4-3001-4be8-adad-d2cbd46d27dd",
   "metadata": {},
   "outputs": [
    {
     "name": "stdout",
     "output_type": "stream",
     "text": [
      "This image is a bar chart titled \"Text Evaluation\" that compares the performance of various models across different evaluation metrics. The models compared are:\n",
      "\n",
      "- GPT-4o (pink)\n",
      "- GPT-4T (red)\n",
      "- GPT-4 (initial release 23-03-14) (orange)\n",
      "- Claude 3 Opus (green)\n",
      "- Gemini Pro 1.5 (yellow)\n",
      "- Gemini Ultra 1.0 (blue)\n",
      "- Llama3 400b (light blue)\n",
      "\n",
      "The evaluation metrics are:\n",
      "\n",
      "1. MMLU (%)\n",
      "2. GPCQA (%)\n",
      "3. MATH (%)\n",
      "4. HumanEval (%)\n",
      "5. MGSM (%)\n",
      "6. DROP (f1)\n",
      "\n",
      "Each metric has a corresponding set of bars representing the performance of each model. Here are the observations for each metric:\n",
      "\n",
      "1. **MMLU (%)**:\n",
      "   - GPT-4o: 88.7%\n",
      "   - GPT-4T: 86.8%\n",
      "   - GPT-4 (initial release 23-03-14): 86.8%\n",
      "   - Claude 3 Opus: 83.7%\n",
      "   - Gemini Pro 1.5: 81.9%\n",
      "   - Gemini Ultra 1.0: 86.1%\n",
      "   - Llama3 400b: 81.9%\n",
      "\n",
      "2. **GPCQA (%)**:\n",
      "   - GPT-4o: 53.6%\n",
      "   - GPT-4T: 48.0%\n",
      "   - GPT-4 (initial release 23-03-14): 50.4%\n",
      "   - Claude 3 Opus: 48.0%\n",
      "   - Gemini Pro 1.5: 35.7%\n",
      "   - Gemini Ultra 1.0: N/A\n",
      "   - Llama3 400b: N/A\n",
      "\n",
      "3. **MATH (%)**:\n",
      "   - GPT-4o: 76.6%\n",
      "   - GPT-4T: 72.6%\n",
      "   - GPT-4 (initial release 23-03-14): 60.1%\n",
      "   - Claude 3 Opus: 58.5%\n",
      "   - Gemini Pro 1.5: 57.8%\n",
      "   - Gemini Ultra 1.0: 53.2%\n",
      "   - Llama3 400b: 42.5%\n",
      "\n",
      "4. **HumanEval (%)**:\n",
      "   - GPT-4o: 90.2%\n",
      "   - GPT-4T: 87.1%\n",
      "   - GPT-4 (initial release 23-03-14): 84.9%\n",
      "   - Claude 3 Opus: 84.1%\n",
      "   - Gemini Pro 1.5: 74.4%\n",
      "   - Gemini Ultra 1.0: 71.9%\n",
      "   - Llama3 400b: 67.0%\n",
      "\n",
      "5. **MGSM (%)**:\n",
      "   - GPT-4o: 90.5%\n",
      "   - GPT-4T: 88.7%\n",
      "   - GPT-4 (initial release 23-03-14): 79.0%\n",
      "   - Claude 3 Opus: 74.5%\n",
      "   - Gemini Pro 1.5: 74.5%\n",
      "   - Gemini Ultra 1.0: 74.5%\n",
      "   - Llama3 400b: N/A\n",
      "\n",
      "6. **DROP (f1)**:\n",
      "   - GPT-4o: 86.0%\n",
      "   - GPT-4T: 83.4%\n",
      "   - GPT-4 (initial release 23-03-14): 83.1%\n",
      "   - Claude 3 Opus: 82.4%\n",
      "   - Gemini Pro 1.5: 80.9%\n",
      "   - Gemini Ultra 1.0: 78.8%\n",
      "   - Llama3 400b: 83.5%\n",
      "\n",
      "The chart shows that GPT-4o generally performs the best across most metrics, followed by GPT-4T and GPT-4 (initial release 23-03-14). The other models show varying performance across different metrics.\n"
     ]
    }
   ],
   "source": [
    "response = client.chat.completions.create(\n",
    "    model=MODEL,\n",
    "    messages=[\n",
    "        {\n",
    "            \"role\": \"system\",\n",
    "            \"content\": \"You are a helpful assistant that responds in Markdown\"\n",
    "        },\n",
    "        {\n",
    "            \"role\": \"user\",\n",
    "            \"content\": [\n",
    "                {\n",
    "                    \"type\": \"text\",\n",
    "                    \"text\": \"Can you explain what you see in this image?\"\n",
    "                },\n",
    "                {\n",
    "                    \"type\": \"image_url\",\n",
    "                    \"image_url\": {\n",
    "                        \"url\": \"https://images.ctfassets.net/kftzwdyauwt9/3Y5UXKbx1ZIQYF4dg585eH/1a6da79d0ab3b8d3a2fd23aae1f21075/gpt-40-01_dark.png\"\n",
    "                    }\n",
    "                }\n",
    "            ]\n",
    "        }\n",
    "    ],\n",
    "    temperature=0.0,\n",
    ")\n",
    "print(response.choices[0].message.content)"
   ]
  },
  {
   "cell_type": "markdown",
   "id": "fa000220-a63a-4ac7-a47d-3185157da45e",
   "metadata": {},
   "source": [
    "### Beard image\n",
    "**Display** the beard image via its `url`:"
   ]
  },
  {
   "cell_type": "code",
   "execution_count": 11,
   "id": "1bfa3285-3af0-462d-aaca-8bd38cc0103d",
   "metadata": {},
   "outputs": [
    {
     "data": {
      "text/html": [
       "<img src=\"https://pbs.twimg.com/media/GNeb4-Ua8AAuaKp?format=png&name=small\" width=\"250\"/>"
      ],
      "text/plain": [
       "<IPython.core.display.Image object>"
      ]
     },
     "execution_count": 11,
     "metadata": {},
     "output_type": "execute_result"
    }
   ],
   "source": [
    "imgurl = \"https://pbs.twimg.com/media/GNeb4-Ua8AAuaKp?format=png&name=small\"\n",
    "Image(url=imgurl, width=250)#, height=100)"
   ]
  },
  {
   "cell_type": "markdown",
   "id": "015fafb3-bf26-41af-9546-97e4da7fc4e8",
   "metadata": {},
   "source": [
    "**Analyse** the beard image via its `url`:"
   ]
  },
  {
   "cell_type": "code",
   "execution_count": 12,
   "id": "d51f4728-cea2-465c-b600-01d72986be87",
   "metadata": {},
   "outputs": [
    {
     "name": "stdout",
     "output_type": "stream",
     "text": [
      "In the image, there is a person who appears to be smiling. The emotion shown can be described as happy or content. The smile suggests a positive and pleasant mood.\n"
     ]
    }
   ],
   "source": [
    "#  man with beard\n",
    "response = client.chat.completions.create(\n",
    "    model=MODEL,\n",
    "    messages=[\n",
    "        {\"role\": \"system\", \"content\": \"You are a helpful assistant that responds in Markdown\"},\n",
    "        {\"role\": \"user\", \"content\": [\n",
    "            {\"type\": \"text\", \"text\": \"What do you see in this image? How would you describe the emotion shown?\"},\n",
    "            {\"type\": \"image_url\", \"image_url\": {\n",
    "                \"url\": f\"{imgurl}\"}\n",
    "            }\n",
    "        ]}\n",
    "    ],\n",
    "    temperature=0.0,\n",
    ")\n",
    "print(response.choices[0].message.content)"
   ]
  },
  {
   "cell_type": "markdown",
   "id": "76c07fd1-6225-412a-8cea-11233976d3c7",
   "metadata": {},
   "source": [
    "## Function calling\n",
    "\n",
    "Set some fantasy results of NBA games."
   ]
  },
  {
   "cell_type": "code",
   "execution_count": 13,
   "id": "6671204c-c9dd-47aa-909f-3759f49da24e",
   "metadata": {},
   "outputs": [
    {
     "data": {
      "text/plain": [
       "<function __main__.get_nba_game_score(team)>"
      ]
     },
     "execution_count": 13,
     "metadata": {},
     "output_type": "execute_result"
    }
   ],
   "source": [
    "# Mock function to get NBA game scores\n",
    "def get_nba_game_score(team):\n",
    "    print(\"get_nba_game_score called\")\n",
    "    if \"lakers\" in team.lower():\n",
    "        return json.dumps({\"team\": \"Lakers\", \"score\": \"102\", \"opponent\": \"Warriors\", \"opponent_score\": \"98\"})\n",
    "    elif \"bulls\" in team.lower():\n",
    "        return json.dumps({\"team\": \"Bulls\", \"score\": \"89\", \"opponent\": \"Celtics\", \"opponent_score\": \"95\"})\n",
    "    else:\n",
    "        return json.dumps({\"team\": team, \"score\": \"N/A\", \"opponent\": \"N/A\", \"opponent_score\": \"N/A\"})\n",
    "\n",
    "get_nba_game_score"
   ]
  },
  {
   "cell_type": "markdown",
   "id": "1d40c9e5-12d5-4efc-b7c0-1c62b4905270",
   "metadata": {},
   "source": [
    "Retrieve the above results using a function call."
   ]
  },
  {
   "cell_type": "code",
   "execution_count": 14,
   "id": "6fbdb442-55ee-46c9-941b-6f963b1bb366",
   "metadata": {},
   "outputs": [
    {
     "name": "stdout",
     "output_type": "stream",
     "text": [
      "Tool call: ChatCompletionMessageToolCall(id='call_SdR1QvTY0COQZv12BQRCBfTD', function=Function(arguments='{\"team\":\"Bulls\"}', name='get_nba_game_score'), type='function')\n",
      "get_nba_game_score called\n",
      "\n",
      "The latest score for the Bulls game is Bulls 89, Celtics 95.\n"
     ]
    }
   ],
   "source": [
    "team = \"Bulls\" # \"Lakers\" or \"Bulls\"\n",
    "def function_calling():\n",
    "    # Step 1: Initialize conversation with the user's message\n",
    "    messages = [{\"role\": \"user\", \"content\": f\"What's the score of the {team} game?\"}]\n",
    "    # Define available tools (functions) the model can use\n",
    "    tools = [\n",
    "        {\n",
    "            \"type\": \"function\",\n",
    "            \"function\": {\n",
    "                \"name\": \"get_nba_game_score\",\n",
    "                \"description\": \"Get the current score of an NBA game for a given team\",\n",
    "                \"parameters\": {\n",
    "                    \"type\": \"object\",\n",
    "                    \"properties\": {\n",
    "                        \"team\": {\n",
    "                            \"type\": \"string\",\n",
    "                            \"description\": \"The name of the NBA team, e.g. Lakers, Bulls\",\n",
    "                        },\n",
    "                    },\n",
    "                    \"required\": [\"team\"],\n",
    "                },\n",
    "            },\n",
    "        }\n",
    "    ]\n",
    "    # Step 2: Send the conversation context and available tools to the model\n",
    "    response = client.chat.completions.create(\n",
    "        model=MODEL,\n",
    "        messages=messages,\n",
    "        tools=tools,\n",
    "        tool_choice=\"auto\",  # auto is default, but we'll be explicit\n",
    "    )\n",
    "    # Extract the response from the model\n",
    "    response_message = response.choices[0].message\n",
    "    tool_calls = response_message.tool_calls  # Check if the model wants to call any tools\n",
    "    # Step 3: Check if there are any tool calls requested by the model\n",
    "    if tool_calls:\n",
    "        # Define available functions\n",
    "        available_functions = {\n",
    "            \"get_nba_game_score\": get_nba_game_score,\n",
    "        }  # Only one function in this example, but can be extended\n",
    "        # Add the model's response to the conversation history\n",
    "        messages.append(response_message)\n",
    "        # Step 4: Call the function requested by the model\n",
    "        for tool_call in tool_calls:\n",
    "            function_name = tool_call.function.name\n",
    "            function_to_call = available_functions[function_name]\n",
    "            function_args = json.loads(tool_call.function.arguments)\n",
    "            print(f\"Tool call: {tool_call}\")\n",
    "            # Call the function with the extracted arguments\n",
    "            function_response = function_to_call(\n",
    "                team=function_args.get(\"team\"),\n",
    "            )\n",
    "            # Add the function response to the conversation history\n",
    "            messages.append(\n",
    "                {\n",
    "                    \"tool_call_id\": tool_call.id,\n",
    "                    \"role\": \"tool\",\n",
    "                    \"name\": function_name,\n",
    "                    \"content\": function_response,\n",
    "                }\n",
    "            )\n",
    "        # Step 5: Continue the conversation with the updated history\n",
    "        second_response = client.chat.completions.create(\n",
    "            model=MODEL,\n",
    "            messages=messages,\n",
    "        )  # Get a new response from the model where it can see the function response\n",
    "        return second_response\n",
    "\n",
    "# Run the conversation and print the result\n",
    "result = function_calling().choices[0].message.content\n",
    "print(f\"\\n{result}\")"
   ]
  },
  {
   "cell_type": "markdown",
   "id": "4b89fcd8-fc02-452c-bd98-ee31a9ab804f",
   "metadata": {},
   "source": [
    "$\\checkmark$"
   ]
  }
 ],
 "metadata": {
  "kernelspec": {
   "display_name": "Python 3 (ipykernel)",
   "language": "python",
   "name": "python3"
  },
  "language_info": {
   "codemirror_mode": {
    "name": "ipython",
    "version": 3
   },
   "file_extension": ".py",
   "mimetype": "text/x-python",
   "name": "python",
   "nbconvert_exporter": "python",
   "pygments_lexer": "ipython3",
   "version": "3.11.3"
  }
 },
 "nbformat": 4,
 "nbformat_minor": 5
}
