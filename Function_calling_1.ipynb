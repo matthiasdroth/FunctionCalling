{
 "cells": [
  {
   "cell_type": "markdown",
   "id": "e07f171f-004b-4400-9564-d31dbef6c446",
   "metadata": {},
   "source": [
    "# Function calling: *part one*\n",
    "Source: YouTube [video](https://www.youtube.com/watch?v=kWo3iPDsVWU) by ***Thomas Janssen***.\n",
    "\n",
    "## 1. Instantiate the OpenAI client\n",
    "Load the OpenAI api key from the hidden `.env` file via `load_dotenv()` and instantiate the OpenAI `client` object."
   ]
  },
  {
   "cell_type": "code",
   "execution_count": 1,
   "id": "8a632875-6e9b-467f-80be-50368f238fe1",
   "metadata": {},
   "outputs": [
    {
     "data": {
      "text/plain": [
       "openai.OpenAI"
      ]
     },
     "execution_count": 1,
     "metadata": {},
     "output_type": "execute_result"
    }
   ],
   "source": [
    "from openai import OpenAI\n",
    "from dotenv import load_dotenv\n",
    "import json\n",
    "load_dotenv()\n",
    "client = OpenAI()\n",
    "type(client)"
   ]
  },
  {
   "cell_type": "code",
   "execution_count": 2,
   "id": "099f2367-3505-4608-8b73-3952fa3af694",
   "metadata": {},
   "outputs": [
    {
     "name": "stdout",
     "output_type": "stream",
     "text": [
      "/home/matthias/Desktop/MachineLearning/FunctionCalling\n"
     ]
    }
   ],
   "source": [
    "!pwd"
   ]
  },
  {
   "cell_type": "markdown",
   "id": "d56e03c2-6dbf-4c4c-966e-0c90f3119570",
   "metadata": {},
   "source": [
    "## 2. Describe the function\n",
    "While the `prompt` is straightforward – *What do you want?* – the `function_descriptions` list warrants further comments:\n",
    "- Each list entry is a nested `dict` / *JSON object* with 3 keys:\n",
    "  - `\"name\"` has the *function name* as value,\n",
    "  - `\"descriptions\"` has a *detailed description* as value and\n",
    "  - `\"parameters\"` has a nested `dict` as value.\n",
    "  - The nested dictionary under `\"parameters\"` has three keys:\n",
    "    - `\"type\"` usually has the value `\"object\"`, indicating a JSON object.\n",
    "    - `\"properties\"` is a nested `dict` where each `key` holds yes another `dict` with keys\n",
    "      - `\"type\"` ($\\Rightarrow$ return `type`: *integer*, *string* etc.) and\n",
    "      - `\"description\"` ($\\Rightarrow$ a short string that describes what shall be returned).\n",
    "    - `\"required\"` is a list of those `\"properties\"` that **must** be returned."
   ]
  },
  {
   "cell_type": "code",
   "execution_count": 3,
   "id": "519d69a6-a175-4750-b6d1-83b48025dbaa",
   "metadata": {},
   "outputs": [
    {
     "name": "stdout",
     "output_type": "stream",
     "text": [
      "[\n",
      "  {\n",
      "    \"name\": \"get_population_data\",\n",
      "    \"description\": \"Get the population data for a specific country.\",\n",
      "    \"parameters\": {\n",
      "      \"type\": \"object\",\n",
      "      \"properties\": {\n",
      "        \"population\": {\n",
      "          \"type\": \"integer\",\n",
      "          \"description\": \"The number of inhabitants for this country\"\n",
      "        },\n",
      "        \"country_name\": {\n",
      "          \"type\": \"string\",\n",
      "          \"description\": \"The name of the country\"\n",
      "        }\n",
      "      },\n",
      "      \"required\": [\n",
      "        \"population\",\n",
      "        \"country_name\"\n",
      "      ]\n",
      "    }\n",
      "  }\n",
      "]\n"
     ]
    }
   ],
   "source": [
    "prompt = \"Whats the population of Germany?\"\n",
    "function_descriptions = [\n",
    "    {\n",
    "        \"name\": \"get_population_data\",\n",
    "        \"description\": \"Get the population data for a specific country.\",\n",
    "        \"parameters\": {\n",
    "            \"type\": \"object\",\n",
    "            \"properties\": {\n",
    "                \"population\": {\n",
    "                    \"type\": \"integer\",\n",
    "                    \"description\": \"The number of inhabitants for this country\",\n",
    "                },\n",
    "                \"country_name\": {\n",
    "                    \"type\":\"string\",\n",
    "                    \"description\":\"The name of the country\"\n",
    "                }\n",
    "            },\n",
    "            \"required\": [\"population\",\"country_name\"],\n",
    "        },\n",
    "    }\n",
    "]\n",
    "# print function_descriptions\n",
    "print(json.dumps(function_descriptions, indent=2))"
   ]
  },
  {
   "cell_type": "markdown",
   "id": "1032d9ca-6de2-4f58-94aa-fc69cc790c50",
   "metadata": {},
   "source": [
    "## 3. Make the api call and extract the results"
   ]
  },
  {
   "cell_type": "code",
   "execution_count": 4,
   "id": "fe44ad1e-c57f-4ac6-881a-9b1f2a27617b",
   "metadata": {},
   "outputs": [
    {
     "name": "stdout",
     "output_type": "stream",
     "text": [
      "Germany has a population of 83783942\n"
     ]
    }
   ],
   "source": [
    "completion = client.chat.completions.create(\n",
    "    model=\"gpt-3.5-turbo\",\n",
    "    messages=[{\n",
    "        \"role\": \"user\",\n",
    "        \"content\": prompt\n",
    "    }],\n",
    "    functions=function_descriptions,\n",
    "    function_call=\"auto\"\n",
    ")\n",
    "output = completion.choices[0].message\n",
    "country_name = json.loads(output.function_call.arguments).get(\"country_name\")\n",
    "population = json.loads(output.function_call.arguments).get(\"population\")\n",
    "print(f\"{country_name} has a population of {population}\")"
   ]
  },
  {
   "cell_type": "markdown",
   "id": "3dd32c3b-829f-4ca3-a784-ec2e9097ac2b",
   "metadata": {},
   "source": [
    "## Challenge: get name and height of the highest building in the world\n",
    "Define the function call."
   ]
  },
  {
   "cell_type": "code",
   "execution_count": 5,
   "id": "980079ca-4582-4339-8535-8e0564cd8655",
   "metadata": {},
   "outputs": [
    {
     "name": "stdout",
     "output_type": "stream",
     "text": [
      "[\n",
      "  {\n",
      "    \"name\": \"get_highest_building_data\",\n",
      "    \"description\": \"Name, city, country and height (in meters) of the world's highest building.\",\n",
      "    \"parameters\": {\n",
      "      \"type\": \"object\",\n",
      "      \"properties\": {\n",
      "        \"building_name\": {\n",
      "          \"type\": \"string\",\n",
      "          \"description\": \"The name of the world's highest building.\"\n",
      "        },\n",
      "        \"city_name\": {\n",
      "          \"type\": \"string\",\n",
      "          \"description\": \"The name of the city with the world's highest building.\"\n",
      "        },\n",
      "        \"country_name\": {\n",
      "          \"type\": \"string\",\n",
      "          \"description\": \"The name of the country with the world's highest building.\"\n",
      "        },\n",
      "        \"height\": {\n",
      "          \"type\": \"integer\",\n",
      "          \"description\": \"The height of the world's highest building in meters.\"\n",
      "        }\n",
      "      },\n",
      "      \"required\": [\n",
      "        \"building_name\",\n",
      "        \"city_name\",\n",
      "        \"country_name\",\n",
      "        \"height\"\n",
      "      ]\n",
      "    }\n",
      "  }\n",
      "]\n"
     ]
    }
   ],
   "source": [
    "function_description_challenge = [\n",
    "    {\n",
    "        \"name\": \"get_highest_building_data\",\n",
    "        \"description\": \"Name, city, country and height (in meters) of the world's highest building.\",\n",
    "        \"parameters\": {\n",
    "            \"type\": \"object\",\n",
    "            \"properties\": {\n",
    "                \"building_name\": {\n",
    "                    \"type\":\"string\",\n",
    "                    \"description\": \"The name of the world's highest building.\"\n",
    "                },\n",
    "                \"city_name\": {\n",
    "                    \"type\": \"string\",\n",
    "                    \"description\": \"The name of the city with the world's highest building.\",\n",
    "                },\n",
    "                \"country_name\": {\n",
    "                    \"type\": \"string\",\n",
    "                    \"description\": \"The name of the country with the world's highest building.\",\n",
    "                },\n",
    "                \"height\": {\n",
    "                    \"type\": \"integer\",\n",
    "                    \"description\": \"The height of the world's highest building in meters.\",\n",
    "                }\n",
    "            },\n",
    "            \"required\": [\"building_name\", \"city_name\", \"country_name\", \"height\"],\n",
    "        },\n",
    "    }\n",
    "]\n",
    "print(json.dumps(function_description_challenge, indent=2))\n",
    "prompt_challenge = \"Which is the highest building in the world and where is it located?\""
   ]
  },
  {
   "cell_type": "markdown",
   "id": "adc378fe-2b01-45a4-b54e-a5d6cdf6e498",
   "metadata": {},
   "source": [
    "Execute the function call and parse the results."
   ]
  },
  {
   "cell_type": "code",
   "execution_count": 6,
   "id": "3f16cfde-446d-4da7-9f24-36b2347d6928",
   "metadata": {},
   "outputs": [
    {
     "name": "stdout",
     "output_type": "stream",
     "text": [
      "With 828 meters, Burj Khalifa in Dubai (United Arab Emirates) is the world's highest building.\n"
     ]
    }
   ],
   "source": [
    "completion = client.chat.completions.create(\n",
    "    model=\"gpt-3.5-turbo\",\n",
    "    messages=[{\n",
    "        \"role\": \"user\",\n",
    "        \"content\": prompt_challenge\n",
    "    }],\n",
    "    functions=function_description_challenge,\n",
    "    function_call=\"auto\"\n",
    ")\n",
    "output = completion.choices[0].message\n",
    "building_name = json.loads(output.function_call.arguments).get(\"building_name\")\n",
    "city_name = json.loads(output.function_call.arguments).get(\"city_name\")\n",
    "country_name = json.loads(output.function_call.arguments).get(\"country_name\")\n",
    "height = json.loads(output.function_call.arguments).get(\"height\")\n",
    "\n",
    "print(f\"With {height} meters, {building_name} in {city_name} ({country_name}) is the world's highest building.\")"
   ]
  },
  {
   "cell_type": "markdown",
   "id": "4e5cd1a9-7d92-4c91-96cf-61c3aa080cf0",
   "metadata": {},
   "source": [
    "This is amazing!<br>\n",
    "$\\checkmark$"
   ]
  }
 ],
 "metadata": {
  "kernelspec": {
   "display_name": "Python 3 (ipykernel)",
   "language": "python",
   "name": "python3"
  },
  "language_info": {
   "codemirror_mode": {
    "name": "ipython",
    "version": 3
   },
   "file_extension": ".py",
   "mimetype": "text/x-python",
   "name": "python",
   "nbconvert_exporter": "python",
   "pygments_lexer": "ipython3",
   "version": "3.11.3"
  }
 },
 "nbformat": 4,
 "nbformat_minor": 5
}
